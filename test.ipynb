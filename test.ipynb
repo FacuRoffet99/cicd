{
 "cells": [
  {
   "cell_type": "code",
   "execution_count": 2,
   "id": "b6b3c528",
   "metadata": {},
   "outputs": [
    {
     "name": "stderr",
     "output_type": "stream",
     "text": [
      "\u001b[34m\u001b[1mwandb\u001b[0m: Saved report to: https://wandb.ai/FacuRoffet99\\pytorch-intro\\reports\\Run-comparison--VmlldzoxMzkyMDkzNw==\n"
     ]
    },
    {
     "name": "stdout",
     "output_type": "stream",
     "text": [
      "The comparison report can found at: https://wandb.ai/FacuRoffet99\\pytorch-intro\\reports\\Run-comparison--VmlldzoxMzkyMDkzNw==.\n"
     ]
    },
    {
     "data": {
      "text/plain": [
       "'https://wandb.ai/FacuRoffet99\\\\pytorch-intro\\\\reports\\\\Run-comparison--VmlldzoxMzkyMDkzNw=='"
      ]
     },
     "execution_count": 2,
     "metadata": {},
     "output_type": "execute_result"
    }
   ],
   "source": [
    "import os\n",
    "from utils.wandb import get_run_by_unique_tag, get_run_by_id, create_comparison_report\n",
    "entity, project = 'FacuRoffet99', 'pytorch-intro'\n",
    "run_id, tag = 'yla6hhv3', 'baseline'\n",
    "base_run = get_run_by_unique_tag(entity, project, tag)\n",
    "new_run = get_run_by_id(entity, project, run_id)\n",
    "create_comparison_report(entity, project, tag, base_run, new_run)"
   ]
  },
  {
   "cell_type": "code",
   "execution_count": null,
   "id": "8ee8f1e0",
   "metadata": {},
   "outputs": [
    {
     "ename": "AssertionError",
     "evalue": "More then 1 artifact of type model!",
     "output_type": "error",
     "traceback": [
      "\u001b[31m---------------------------------------------------------------------------\u001b[39m",
      "\u001b[31mAssertionError\u001b[39m                            Traceback (most recent call last)",
      "\u001b[36mCell\u001b[39m\u001b[36m \u001b[39m\u001b[32mIn[3]\u001b[39m\u001b[32m, line 5\u001b[39m\n\u001b[32m      3\u001b[39m entity, project, collection = \u001b[33m'\u001b[39m\u001b[33mFacuRoffet99\u001b[39m\u001b[33m'\u001b[39m, \u001b[33m'\u001b[39m\u001b[33mpytorch-intro\u001b[39m\u001b[33m'\u001b[39m, \u001b[33m'\u001b[39m\u001b[33mMNIST Classifier\u001b[39m\u001b[33m'\u001b[39m\n\u001b[32m      4\u001b[39m run_id, tag = \u001b[33m'\u001b[39m\u001b[33myla6hhv3\u001b[39m\u001b[33m'\u001b[39m, \u001b[33m'\u001b[39m\u001b[33mwea\u001b[39m\u001b[33m'\u001b[39m\n\u001b[32m----> \u001b[39m\u001b[32m5\u001b[39m \u001b[43mpromote_run_by_id\u001b[49m\u001b[43m(\u001b[49m\u001b[43mentity\u001b[49m\u001b[43m,\u001b[49m\u001b[43m \u001b[49m\u001b[43mproject\u001b[49m\u001b[43m,\u001b[49m\u001b[43m \u001b[49m\u001b[43mcollection\u001b[49m\u001b[43m,\u001b[49m\u001b[43m \u001b[49m\u001b[43mrun_id\u001b[49m\u001b[43m,\u001b[49m\u001b[43m \u001b[49m\u001b[43mtag\u001b[49m\u001b[43m)\u001b[49m\n",
      "\u001b[36mFile \u001b[39m\u001b[32mc:\\Users\\Facu\\Mi unidad\\Proyectos\\WandB\\cicd\\utils\\wandb.py:63\u001b[39m, in \u001b[36mpromote_run_by_id\u001b[39m\u001b[34m(entity, project, collection, run_id, tag)\u001b[39m\n\u001b[32m     61\u001b[39m artifact = [a \u001b[38;5;28;01mfor\u001b[39;00m a \u001b[38;5;129;01min\u001b[39;00m run.logged_artifacts() \u001b[38;5;28;01mif\u001b[39;00m a.type == \u001b[33m'\u001b[39m\u001b[33mmodel\u001b[39m\u001b[33m'\u001b[39m]\n\u001b[32m     62\u001b[39m \u001b[38;5;28;01mif\u001b[39;00m artifact:\n\u001b[32m---> \u001b[39m\u001b[32m63\u001b[39m     \u001b[38;5;28;01massert\u001b[39;00m \u001b[38;5;28mlen\u001b[39m(artifact) == \u001b[32m1\u001b[39m, \u001b[33m'\u001b[39m\u001b[33mMore then 1 artifact of type model!\u001b[39m\u001b[33m'\u001b[39m\n\u001b[32m     64\u001b[39m     artifact[\u001b[32m0\u001b[39m].link(registry_path, aliases=[tag])   \n\u001b[32m     66\u001b[39m versions = api.artifact_versions(\u001b[33m'\u001b[39m\u001b[33mmodel\u001b[39m\u001b[33m'\u001b[39m, registry_path)\n",
      "\u001b[31mAssertionError\u001b[39m: More then 1 artifact of type model!"
     ]
    }
   ],
   "source": [
    "import os\n",
    "from utils.wandb import promote_run_by_id\n",
    "entity, project, collection = 'FacuRoffet99', 'pytorch-intro', 'MNIST Classifier'\n",
    "run_id, tag = 'yla6hhv3', 'wea'\n",
    "_ = promote_run_by_id(entity, project, collection, run_id, tag)"
   ]
  },
  {
   "cell_type": "code",
   "execution_count": 1,
   "id": "ff3adf7d",
   "metadata": {},
   "outputs": [
    {
     "name": "stdout",
     "output_type": "stream",
     "text": [
      "The model was promoted with the tag `wea` to this registry: https://wandb.ai/FacuRoffet99/registry/model?selectionPath=FacuRoffet99%2Fmodel-registry%2FMNIST+Classifier&version=v14\n"
     ]
    }
   ],
   "source": [
    "import os\n",
    "from utils.wandb import promote_run_by_id\n",
    "entity, project, collection = 'FacuRoffet99', 'pytorch-intro', 'MNIST Classifier'\n",
    "run_id, tag = 'yla6hhv3', 'wea'\n",
    "_ = promote_run_by_id(entity, project, collection, run_id, tag)"
   ]
  }
 ],
 "metadata": {
  "kernelspec": {
   "display_name": "wandb",
   "language": "python",
   "name": "python3"
  },
  "language_info": {
   "codemirror_mode": {
    "name": "ipython",
    "version": 3
   },
   "file_extension": ".py",
   "mimetype": "text/x-python",
   "name": "python",
   "nbconvert_exporter": "python",
   "pygments_lexer": "ipython3",
   "version": "3.13.5"
  }
 },
 "nbformat": 4,
 "nbformat_minor": 5
}
