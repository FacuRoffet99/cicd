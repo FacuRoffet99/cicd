{
 "cells": [
  {
   "cell_type": "code",
   "execution_count": null,
   "id": "fd746d86",
   "metadata": {},
   "outputs": [
    {
     "name": "stderr",
     "output_type": "stream",
     "text": [
      "\u001b[34m\u001b[1mwandb\u001b[0m: Saved report to: https://wandb.ai/facuroffet99\\pytorch-intro\\reports\\Run-comparison--VmlldzoxMzkxOTE2NQ==\n"
     ]
    },
    {
     "name": "stdout",
     "output_type": "stream",
     "text": [
      "The comparison report can found at: https://wandb.ai/facuroffet99\\pytorch-intro\\reports\\Run-comparison--VmlldzoxMzkxOTE2NQ==.\n"
     ]
    }
   ],
   "source": [
    "import os\n",
    "from utils.wandb import promote_run_by_id\n",
    "\n",
    "os.environ['RUN_ID'] = 'yla6hhv3'\n",
    "assert os.environ['WANDB_API_KEY'], 'You must set the WANDB_API_KEY environment variable'\n",
    "\n",
    "if __name__ == \"__main__\":\n",
    "    entity, project, tag = 'facuroffet99', 'pytorch-intro', 'production-candidate'\n",
    "    new_run = promote_run_by_id(entity, project, os.environ['RUN_ID'], tag)\n",
    "    \n",
    "    print(f'The comparison report can found at: {report_url}.')"
   ]
  }
 ],
 "metadata": {
  "kernelspec": {
   "display_name": "wandb",
   "language": "python",
   "name": "python3"
  },
  "language_info": {
   "codemirror_mode": {
    "name": "ipython",
    "version": 3
   },
   "file_extension": ".py",
   "mimetype": "text/x-python",
   "name": "python",
   "nbconvert_exporter": "python",
   "pygments_lexer": "ipython3",
   "version": "3.13.5"
  }
 },
 "nbformat": 4,
 "nbformat_minor": 5
}
